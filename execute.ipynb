{
  "nbformat": 4,
  "nbformat_minor": 0,
  "metadata": {
    "colab": {
      "provenance": [],
      "gpuType": "T4"
    },
    "kernelspec": {
      "name": "python3",
      "display_name": "Python 3"
    },
    "language_info": {
      "name": "python"
    },
    "accelerator": "GPU"
  },
  "cells": [
    {
      "cell_type": "code",
      "execution_count": 13,
      "metadata": {
        "colab": {
          "base_uri": "https://localhost:8080/"
        },
        "id": "3DTtZehWhGOv",
        "outputId": "7ca9ed57-37b8-4cb9-f30f-6006f487d747"
      },
      "outputs": [
        {
          "output_type": "stream",
          "name": "stdout",
          "text": [
            "Loaded scenarios from scenarios.json\n",
            "{\n",
            "    \"English\": {\n",
            "        \"Hotel\": [\n",
            "            \"The hotel service was impeccable, and the chef's cuisine was absolutely divine.\",\n",
            "            \"Every detail in the hotel's dining area spoke of excellence and refined taste.\",\n",
            "            \"The hotel's staff, led by a visionary chef, created an unforgettable experience.\",\n",
            "            \"The service at the hotel was mediocre, and the chef didn't impress us at all.\",\n",
            "            \"The dining experience was marred by sloppy service and uninspired culinary efforts.\",\n",
            "            \"Despite high hopes, the hotel's service and cuisine fell far short of expectations.\"\n",
            "        ],\n",
            "        \"Restaurant\": [\n",
            "            \"The restaurant's atmosphere was vibrant, and the chef's culinary creations were exquisite.\",\n",
            "            \"Compliments to the chef for a well-executed menu that delighted every sense.\",\n",
            "            \"The waiter delivered exceptional service, adding charm to the restaurant's elegant setting.\",\n",
            "            \"The restaurant suffered from a lack of finesse, with the chef's dishes missing the mark.\",\n",
            "            \"Poor service and subpar food left us disappointed with the restaurant experience.\",\n",
            "            \"The restaurant's attempt at innovation fell flat, with both service and cuisine failing to impress.\"\n",
            "        ]\n",
            "    },\n",
            "    \"Hindi\": {\n",
            "        \"होटल\": [\n",
            "            \"होटल की सेवा त्रुटिहीन थी, और शेफ का भोजन बिल्कुल दिव्य था।\",\n",
            "            \"होटल के भोजन क्षेत्र का हर विवरण उत्कृष्टता और परिष्कृत स्वाद का परिचायक था।\",\n",
            "            \"एक दूरदर्शी शेफ के नेतृत्व में होटल के स्टाफ ने एक अविस्मरणीय अनुभव बनाया।\",\n",
            "            \"होटल में सेवा औसत दर्जे की थी, और शेफ ने हमें बिल्कुल प्रभावित नहीं किया।\",\n",
            "            \"खराब सेवा और अनुत्साहित पाक प्रयासों ने भोजन अनुभव को बर्बाद कर दिया।\",\n",
            "            \"उच्च उम्मीदों के बावजूद, होटल की सेवा और व्यंजन अपेक्षाओं से बहुत पीछे रहे।\"\n",
            "        ],\n",
            "        \"रेस्तरां\": [\n",
            "            \"रेस्तरां का वातावरण जीवंत था, और शेफ की पाक रचनाएँ अद्भुत थीं।\",\n",
            "            \"शेफ को उनके बेहतरीन मेनू के लिए बधाई, जिसने हर इंद्रिय को आनंदित किया।\",\n",
            "            \"वेटर ने उत्कृष्ट सेवा प्रदान की, जिससे रेस्तरां के सुरुचिपूर्ण माहौल में और आकर्षण बढ़ा।\",\n",
            "            \"रेस्तरां को सूक्ष्मता की कमी से जूझना पड़ा, जहाँ शेफ के व्यंजन मानकों पर खरे नहीं उतरे।\",\n",
            "            \"खराब सेवा और औसत दर्जे के भोजन ने हमें रेस्तरां के अनुभव से निराश कर दिया।\",\n",
            "            \"रेस्तरां का नवाचार प्रयास विफल रहा, क्योंकि सेवा और व्यंजन दोनों ही प्रभावित करने में असफल रहे।\"\n",
            "        ]\n",
            "    }\n",
            "}\n"
          ]
        }
      ],
      "source": [
        "!python generate_scenarios.py"
      ]
    },
    {
      "cell_type": "code",
      "source": [
        "!python analyze_scenarios.py"
      ],
      "metadata": {
        "colab": {
          "base_uri": "https://localhost:8080/"
        },
        "id": "gtXAQiAXhNFF",
        "outputId": "ebe8843b-f3d7-45b7-c468-9417b7857454"
      },
      "execution_count": 14,
      "outputs": [
        {
          "output_type": "stream",
          "name": "stdout",
          "text": [
            "2025-03-07 04:28:52.917610: E external/local_xla/xla/stream_executor/cuda/cuda_fft.cc:477] Unable to register cuFFT factory: Attempting to register factory for plugin cuFFT when one has already been registered\n",
            "WARNING: All log messages before absl::InitializeLog() is called are written to STDERR\n",
            "E0000 00:00:1741321732.947170   22453 cuda_dnn.cc:8310] Unable to register cuDNN factory: Attempting to register factory for plugin cuDNN when one has already been registered\n",
            "E0000 00:00:1741321732.958061   22453 cuda_blas.cc:1418] Unable to register cuBLAS factory: Attempting to register factory for plugin cuBLAS when one has already been registered\n",
            "2025-03-07 04:28:52.991619: I tensorflow/core/platform/cpu_feature_guard.cc:210] This TensorFlow binary is optimized to use available CPU instructions in performance-critical operations.\n",
            "To enable the following instructions: AVX2 FMA, in other operations, rebuild TensorFlow with the appropriate compiler flags.\n",
            "Some weights of the model checkpoint at EleutherAI/gpt-j-6B were not used when initializing GPTJForCausalLM: ['transformer.h.0.attn.bias', 'transformer.h.0.attn.masked_bias', 'transformer.h.1.attn.bias', 'transformer.h.1.attn.masked_bias', 'transformer.h.10.attn.bias', 'transformer.h.10.attn.masked_bias', 'transformer.h.11.attn.bias', 'transformer.h.11.attn.masked_bias', 'transformer.h.12.attn.bias', 'transformer.h.12.attn.masked_bias', 'transformer.h.13.attn.bias', 'transformer.h.13.attn.masked_bias', 'transformer.h.14.attn.bias', 'transformer.h.14.attn.masked_bias', 'transformer.h.15.attn.bias', 'transformer.h.15.attn.masked_bias', 'transformer.h.16.attn.bias', 'transformer.h.16.attn.masked_bias', 'transformer.h.17.attn.bias', 'transformer.h.17.attn.masked_bias', 'transformer.h.18.attn.bias', 'transformer.h.18.attn.masked_bias', 'transformer.h.19.attn.bias', 'transformer.h.19.attn.masked_bias', 'transformer.h.2.attn.bias', 'transformer.h.2.attn.masked_bias', 'transformer.h.20.attn.bias', 'transformer.h.20.attn.masked_bias', 'transformer.h.21.attn.bias', 'transformer.h.21.attn.masked_bias', 'transformer.h.22.attn.bias', 'transformer.h.22.attn.masked_bias', 'transformer.h.23.attn.bias', 'transformer.h.23.attn.masked_bias', 'transformer.h.24.attn.bias', 'transformer.h.24.attn.masked_bias', 'transformer.h.25.attn.bias', 'transformer.h.25.attn.masked_bias', 'transformer.h.26.attn.bias', 'transformer.h.26.attn.masked_bias', 'transformer.h.27.attn.bias', 'transformer.h.27.attn.masked_bias', 'transformer.h.3.attn.bias', 'transformer.h.3.attn.masked_bias', 'transformer.h.4.attn.bias', 'transformer.h.4.attn.masked_bias', 'transformer.h.5.attn.bias', 'transformer.h.5.attn.masked_bias', 'transformer.h.6.attn.bias', 'transformer.h.6.attn.masked_bias', 'transformer.h.7.attn.bias', 'transformer.h.7.attn.masked_bias', 'transformer.h.8.attn.bias', 'transformer.h.8.attn.masked_bias', 'transformer.h.9.attn.bias', 'transformer.h.9.attn.masked_bias']\n",
            "- This IS expected if you are initializing GPTJForCausalLM from the checkpoint of a model trained on another task or with another architecture (e.g. initializing a BertForSequenceClassification model from a BertForPreTraining model).\n",
            "- This IS NOT expected if you are initializing GPTJForCausalLM from the checkpoint of a model that you expect to be exactly identical (initializing a BertForSequenceClassification model from a BertForSequenceClassification model).\n",
            "Analyzing English scenarios:\n",
            "\n",
            "----- Analyzing scenarios in English -----\n",
            "Scenario: Hotel\n",
            "Text: The hotel service was impeccable, and the chef's cuisine was absolutely divine.\n",
            "Log Likelihood: -52.88\n",
            "\n",
            "Text: Every detail in the hotel's dining area spoke of excellence and refined taste.\n",
            "Log Likelihood: -61.11\n",
            "\n",
            "Text: The hotel's staff, led by a visionary chef, created an unforgettable experience.\n",
            "Log Likelihood: -57.78\n",
            "\n",
            "Text: The service at the hotel was mediocre, and the chef didn't impress us at all.\n",
            "Log Likelihood: -55.72\n",
            "\n",
            "Text: The dining experience was marred by sloppy service and uninspired culinary efforts.\n",
            "Log Likelihood: -54.35\n",
            "\n",
            "Text: Despite high hopes, the hotel's service and cuisine fell far short of expectations.\n",
            "Log Likelihood: -54.78\n",
            "\n",
            "--------------------------------------------------\n",
            "Scenario: Restaurant\n",
            "Text: The restaurant's atmosphere was vibrant, and the chef's culinary creations were exquisite.\n",
            "Log Likelihood: -52.88\n",
            "\n",
            "Text: Compliments to the chef for a well-executed menu that delighted every sense.\n",
            "Log Likelihood: -55.38\n",
            "\n",
            "Text: The waiter delivered exceptional service, adding charm to the restaurant's elegant setting.\n",
            "Log Likelihood: -69.49\n",
            "\n",
            "Text: The restaurant suffered from a lack of finesse, with the chef's dishes missing the mark.\n",
            "Log Likelihood: -63.87\n",
            "\n",
            "Text: Poor service and subpar food left us disappointed with the restaurant experience.\n",
            "Log Likelihood: -49.33\n",
            "\n",
            "Text: The restaurant's attempt at innovation fell flat, with both service and cuisine failing to impress.\n",
            "Log Likelihood: -64.16\n",
            "\n",
            "--------------------------------------------------\n",
            "Analyzing Hindi scenarios:\n",
            "\n",
            "----- Analyzing scenarios in Hindi -----\n",
            "Scenario: होटल\n",
            "Text: होटल की सेवा त्रुटिहीन थी, और शेफ का भोजन बिल्कुल दिव्य था।\n",
            "Log Likelihood: -102.51\n",
            "\n",
            "Text: होटल के भोजन क्षेत्र का हर विवरण उत्कृष्टता और परिष्कृत स्वाद का परिचायक था।\n",
            "Log Likelihood: -110.51\n",
            "\n",
            "Text: एक दूरदर्शी शेफ के नेतृत्व में होटल के स्टाफ ने एक अविस्मरणीय अनुभव बनाया।\n",
            "Log Likelihood: -104.30\n",
            "\n",
            "Text: होटल में सेवा औसत दर्जे की थी, और शेफ ने हमें बिल्कुल प्रभावित नहीं किया।\n",
            "Log Likelihood: -107.10\n",
            "\n",
            "Text: खराब सेवा और अनुत्साहित पाक प्रयासों ने भोजन अनुभव को बर्बाद कर दिया।\n",
            "Log Likelihood: -97.91\n",
            "\n",
            "Text: उच्च उम्मीदों के बावजूद, होटल की सेवा और व्यंजन अपेक्षाओं से बहुत पीछे रहे।\n",
            "Log Likelihood: -100.90\n",
            "\n",
            "--------------------------------------------------\n",
            "Scenario: रेस्तरां\n",
            "Text: रेस्तरां का वातावरण जीवंत था, और शेफ की पाक रचनाएँ अद्भुत थीं।\n",
            "Log Likelihood: -112.36\n",
            "\n",
            "Text: शेफ को उनके बेहतरीन मेनू के लिए बधाई, जिसने हर इंद्रिय को आनंदित किया।\n",
            "Log Likelihood: -108.62\n",
            "\n",
            "Text: वेटर ने उत्कृष्ट सेवा प्रदान की, जिससे रेस्तरां के सुरुचिपूर्ण माहौल में और आकर्षण बढ़ा।\n",
            "Log Likelihood: -116.97\n",
            "\n",
            "Text: रेस्तरां को सूक्ष्मता की कमी से जूझना पड़ा, जहाँ शेफ के व्यंजन मानकों पर खरे नहीं उतरे।\n",
            "Log Likelihood: -132.89\n",
            "\n",
            "Text: खराब सेवा और औसत दर्जे के भोजन ने हमें रेस्तरां के अनुभव से निराश कर दिया।\n",
            "Log Likelihood: -106.82\n",
            "\n",
            "Text: रेस्तरां का नवाचार प्रयास विफल रहा, क्योंकि सेवा और व्यंजन दोनों ही प्रभावित करने में असफल रहे।\n",
            "Log Likelihood: -123.03\n",
            "\n",
            "--------------------------------------------------\n",
            "\n",
            "--- Summary Comparison ---\n",
            "Scenario: Hotel vs होटल\n",
            "Example 1: English LL = -52.88, Hindi LL = -102.51\n",
            "Example 2: English LL = -61.11, Hindi LL = -110.51\n",
            "Example 3: English LL = -57.78, Hindi LL = -104.30\n",
            "Example 4: English LL = -55.72, Hindi LL = -107.10\n",
            "Example 5: English LL = -54.35, Hindi LL = -97.91\n",
            "Example 6: English LL = -54.78, Hindi LL = -100.90\n",
            "--------------------------------------------------\n",
            "Scenario: Restaurant vs रेस्तरां\n",
            "Example 1: English LL = -52.88, Hindi LL = -112.36\n",
            "Example 2: English LL = -55.38, Hindi LL = -108.62\n",
            "Example 3: English LL = -69.49, Hindi LL = -116.97\n",
            "Example 4: English LL = -63.87, Hindi LL = -132.89\n",
            "Example 5: English LL = -49.33, Hindi LL = -106.82\n",
            "Example 6: English LL = -64.16, Hindi LL = -123.03\n",
            "--------------------------------------------------\n"
          ]
        }
      ]
    },
    {
      "cell_type": "code",
      "source": [],
      "metadata": {
        "id": "Wtu8tbh6nOdQ"
      },
      "execution_count": null,
      "outputs": []
    }
  ]
}
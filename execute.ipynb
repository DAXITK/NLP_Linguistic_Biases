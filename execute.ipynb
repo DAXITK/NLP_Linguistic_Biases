{
  "cells": [
    {
      "cell_type": "code",
      "execution_count": null,
      "metadata": {
        "colab": {
          "base_uri": "https://localhost:8080/"
        },
        "id": "3DTtZehWhGOv",
        "outputId": "7ca9ed57-37b8-4cb9-f30f-6006f487d747"
      },
      "outputs": [],
      "source": [
        "!python generate_scenarios.py"
      ]
    },
    {
      "cell_type": "code",
      "execution_count": null,
      "metadata": {
        "colab": {
          "base_uri": "https://localhost:8080/"
        },
        "id": "gtXAQiAXhNFF",
        "outputId": "ebe8843b-f3d7-45b7-c468-9417b7857454"
      },
      "outputs": [],
      "source": [
        "!python analyze_scenarios.py"
      ]
    }
  ],
  "metadata": {
    "accelerator": "GPU",
    "colab": {
      "gpuType": "T4",
      "provenance": []
    },
    "kernelspec": {
      "display_name": "Python 3",
      "name": "python3"
    },
    "language_info": {
      "name": "python"
    }
  },
  "nbformat": 4,
  "nbformat_minor": 0
}
